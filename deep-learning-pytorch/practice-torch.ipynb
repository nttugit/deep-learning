{
 "cells": [
  {
   "cell_type": "markdown",
   "id": "2283e5f0",
   "metadata": {},
   "source": [
    "# Tensor manipulation\n",
    "Notes:\n",
    "- by rows: dim=0 or axis=0"
   ]
  },
  {
   "cell_type": "code",
   "execution_count": 141,
   "id": "5c2433e4",
   "metadata": {},
   "outputs": [],
   "source": [
    "import torch"
   ]
  },
  {
   "cell_type": "markdown",
   "id": "037e38eb",
   "metadata": {},
   "source": [
    "## 1. Basics"
   ]
  },
  {
   "cell_type": "code",
   "execution_count": null,
   "id": "7df435d7",
   "metadata": {},
   "outputs": [
    {
     "data": {
      "text/plain": [
       "tensor([[[0.4202, 0.3971, 0.2049, 0.1357],\n",
       "         [0.5071, 0.5500, 0.5149, 0.0085],\n",
       "         [0.8282, 0.0826, 0.3955, 0.0076]],\n",
       "\n",
       "        [[0.3579, 0.0661, 0.8363, 0.0521],\n",
       "         [0.0598, 0.7473, 0.3525, 0.1741],\n",
       "         [0.3582, 0.9962, 0.0011, 0.5400]]])"
      ]
     },
     "execution_count": 6,
     "metadata": {},
     "output_type": "execute_result"
    }
   ],
   "source": [
    "# 1. Create Tensors\n",
    "# Create a 1D tensor of values from 0 to 9.\n",
    "x1 = torch.arange(0,10)\n",
    "x1\n",
    "# Create a 2D tensor of shape (3, 4) filled with ones.\n",
    "x2 = torch.ones((3,4))\n",
    "x2\n",
    "# Create a 3D tensor of shape (2, 3, 4) with random numbers.\n",
    "x3 = torch.rand((2,3,4))\n",
    "x3"
   ]
  },
  {
   "cell_type": "code",
   "execution_count": null,
   "id": "0b4a9946",
   "metadata": {},
   "outputs": [
    {
     "data": {
      "text/plain": [
       "torch.Size([3, 4, 1])"
      ]
     },
     "execution_count": 23,
     "metadata": {},
     "output_type": "execute_result"
    }
   ],
   "source": [
    "# 2. Reshaping\n",
    "# Given t = torch.arange(12), reshape it into shape (3, 4).\n",
    "t = torch.arange(12)\n",
    "# t = t.reshape(3,4)\n",
    "t = torch.reshape(t,(3,4))\n",
    "t\n",
    "\n",
    "# Flatten it back to 1D.\n",
    "# t = torch.flatten(t)\n",
    "# t\n",
    "\n",
    "# Add a new dimension so that the shape becomes (3, 4, 1).\n",
    "# t_new = torch.unsqueeze(t,-1)\n",
    "# t_new\n",
    "t_new = t.view(3,4,1)\n",
    "t_new.shape"
   ]
  },
  {
   "cell_type": "markdown",
   "id": "62a47d46",
   "metadata": {},
   "source": [
    "## Level 2: Operations"
   ]
  },
  {
   "cell_type": "code",
   "execution_count": 51,
   "id": "1d8c7b65",
   "metadata": {},
   "outputs": [
    {
     "name": "stdout",
     "output_type": "stream",
     "text": [
      "torch.Size([3, 1])\n",
      "torch.Size([1, 3])\n"
     ]
    },
    {
     "data": {
      "text/plain": [
       "tensor([0, 3, 5, 0, 4])"
      ]
     },
     "execution_count": 51,
     "metadata": {},
     "output_type": "execute_result"
    }
   ],
   "source": [
    "# 4. Math Ops\n",
    "\n",
    "# Create two tensors of shape (2, 3) and compute:\n",
    "t1 = torch.arange(0,2*3).view(2,3)\n",
    "# print(t1)\n",
    "t2 = torch.arange(1,2*3*2,2).view(2,3)\n",
    "# print(t2)\n",
    "# Elementwise sum\n",
    "t1 + t2\n",
    "# Elementwise product\n",
    "t1 * t2\n",
    "# Matrix multiplication\n",
    "torch.matmul(t1,t2.reshape(3,2))\n",
    "\n",
    "# 5. Broadcasting\n",
    "\n",
    "# Add a 1D tensor [1, 2, 3] to each row of a (3, 3) tensor.\n",
    "t3 = torch.ones(3,3)\n",
    "t3\n",
    "t31 = torch.arange(1,4)\n",
    "t31\n",
    "t3 + t31\n",
    "\n",
    "# Multiply a column vector (3,1) with a row vector (1,3) and check the result.\n",
    "t4 = torch.arange(3).view(-1,1)\n",
    "t4\n",
    "t41 = torch.arange(2,5).view(-1,3) # 3: should have 3 columns, -1 automatically reshape\n",
    "print(t4.shape)\n",
    "print(t41.shape)\n",
    "# torch.matmul(t4,t41)\n",
    "\n",
    "# 6. Masking\n",
    "# Given x = torch.tensor([1, 3, 5, 2, 4]), extract all elements greater than 3.\n",
    "x = torch.tensor([1, 3, 5, 2, 4])\n",
    "# x = x[x > 3]\n",
    "# x\n",
    "# Replace all values less than 3 with 0.\n",
    "x[x < 3] = 0\n",
    "x"
   ]
  },
  {
   "cell_type": "markdown",
   "id": "4afc1150",
   "metadata": {},
   "source": [
    "## Level 3: Advanced"
   ]
  },
  {
   "cell_type": "code",
   "execution_count": 88,
   "id": "366214bc",
   "metadata": {},
   "outputs": [
    {
     "name": "stdout",
     "output_type": "stream",
     "text": [
      "tensor([[0.3339, 0.0910, 0.1742],\n",
      "        [0.8994, 0.6775, 0.0910]])\n",
      "tensor([[0.0296, 0.0533, 0.9811],\n",
      "        [0.8356, 0.2715, 0.4980]])\n",
      "tensor([[ 1,  2,  3,  4],\n",
      "        [ 5,  6,  7,  8],\n",
      "        [ 9, 10, 11, 12],\n",
      "        [13, 14, 15, 16],\n",
      "        [17, 18, 19, 20]])\n",
      "tensor([[0.1193, 0.2512, 0.8670, 0.4018, 0.1750],\n",
      "        [0.3471, 0.1563, 0.9880, 0.1569, 0.2139],\n",
      "        [0.0608, 0.1097, 0.2891, 0.6043, 0.8331],\n",
      "        [0.6538, 0.4702, 0.5107, 0.3513, 0.9148],\n",
      "        [0.9001, 0.9661, 0.3254, 0.2918, 0.8615]])\n"
     ]
    },
    {
     "data": {
      "text/plain": [
       "tensor([[0.1193, 0.2512, 0.8670, 0.4018, 0.1750],\n",
       "        [0.3471, 0.1563, 0.9880, 0.1569, 0.2139],\n",
       "        [0.0608, 0.1097, 0.2891, 0.6043, 0.8331],\n",
       "        [0.6538, 0.4702, 0.5107, 0.3513, 0.9148],\n",
       "        [0.9001, 0.9661, 0.3254, 0.2918, 0.8615]])"
      ]
     },
     "execution_count": 88,
     "metadata": {},
     "output_type": "execute_result"
    }
   ],
   "source": [
    "# 7. Stacking & Concatenation\n",
    "\n",
    "# Stack three (2, 2) tensors into one (3, 2, 2) tensor.\n",
    "t1 = torch.rand((2,2))\n",
    "t2 = torch.rand((2,2))\n",
    "t3 = torch.rand((2,2))\n",
    "t = torch.stack((t1,t2,t3))\n",
    "t.shape\n",
    "# Concatenate two (2, 3) tensors along rows and along columns.\n",
    "t1 = torch.rand((2,3))\n",
    "t2 = torch.rand((2,3))\n",
    "print(t1)\n",
    "print(t2)\n",
    "t = torch.concatenate((t1,t2)) # (4,3)\n",
    "t = torch.concatenate((t1,t2),axis=1)\n",
    "t\n",
    "\n",
    "# 8. Reduction\n",
    "\n",
    "# Given a random (5, 4) tensor, compute:\n",
    "t = torch.arange(1,21).view(5,4)\n",
    "print(t)\n",
    "t.shape\n",
    "# The sum of all elements\n",
    "# t.sum()\n",
    "# The mean across rows\n",
    "t.mean(dim=1,dtype=float)\n",
    "\n",
    "# The maximum value in each column\n",
    "t.max(dim=0).values\n",
    "\n",
    "# 9. One-hot Encoding\n",
    "import torch.nn.functional as F\n",
    "\n",
    "# Convert a tensor labels = torch.tensor([0, 2, 1, 3]) into a one-hot encoded matrix with 4 classes.\n",
    "labels = torch.tensor([0, 2, 1, 3])\n",
    "torch.eye(4)[labels]\n",
    "# or\n",
    "F.one_hot(labels,4)\n",
    "\n",
    "# 10. Argmax & Sorting\n",
    "\n",
    "# For a (5, 5) random tensor, find the index of the maximum element in each row.\n",
    "t = torch.rand((5,5))\n",
    "print(t)\n",
    "t.max(dim=1)\n",
    "# Sort the tensor along dimension 1.\n",
    "t.sort(dim=1)\n",
    "t"
   ]
  },
  {
   "cell_type": "markdown",
   "id": "5b7f3a8e",
   "metadata": {},
   "source": [
    "## Challenge"
   ]
  },
  {
   "cell_type": "code",
   "execution_count": 140,
   "id": "b061556c",
   "metadata": {},
   "outputs": [
    {
     "name": "stdout",
     "output_type": "stream",
     "text": [
      "tensor([1.1582, 0.5411, 0.7918, 0.7852, 0.8724, 1.0126, 0.3282, 1.1759, 0.9293,\n",
      "        0.9685, 1.2606, 0.9657, 0.7273, 0.6114, 0.5644, 0.4446, 0.5386, 0.7372,\n",
      "        0.6963, 0.4737, 0.3424, 0.3003, 1.1269, 1.1428, 0.1962, 0.6918, 1.2321,\n",
      "        0.1683, 0.9720, 0.4319, 0.8644, 1.0048, 0.8000, 0.8849, 0.3798, 1.0035,\n",
      "        0.0783, 1.1764, 0.6173, 0.6881, 1.0334, 0.7745, 0.9377, 1.0189, 0.3313,\n",
      "        0.7981, 0.9767, 0.8672, 0.8600, 0.2779, 0.6296, 0.8229, 1.1472, 1.0225,\n",
      "        0.9445, 0.8515, 0.7420, 1.0749, 0.7649, 0.9780, 0.6276, 1.2310, 0.4321,\n",
      "        1.0584, 0.8292, 0.9281, 0.9267, 0.8504, 0.2869, 0.7699, 0.9704, 0.5854,\n",
      "        0.8573, 0.3560, 0.5433, 0.7899, 1.0993, 0.5071, 0.7739, 1.0480, 0.5114,\n",
      "        0.8163, 0.5629, 0.1080, 0.4797, 0.3782, 0.4114, 0.8205, 0.2116, 0.6155,\n",
      "        0.9730, 0.4893, 0.5027, 0.6087, 0.4420, 1.0840, 0.9913, 1.2509, 0.6834,\n",
      "        0.9425])\n",
      "tensor([1.1582, 0.5411, 0.7918, 0.7852, 0.8724, 1.0126, 0.3282, 1.1759, 0.9293,\n",
      "        0.9685, 1.2606, 0.9657, 0.7273, 0.6114, 0.5644, 0.4446, 0.5386, 0.7372,\n",
      "        0.6963, 0.4737, 0.3424, 0.3003, 1.1269, 1.1428, 0.1962, 0.6918, 1.2321,\n",
      "        0.1683, 0.9720, 0.4319, 0.8644, 1.0048, 0.8000, 0.8849, 0.3798, 1.0035,\n",
      "        0.0783, 1.1764, 0.6173, 0.6881, 1.0334, 0.7745, 0.9377, 1.0189, 0.3313,\n",
      "        0.7981, 0.9767, 0.8672, 0.8600, 0.2779, 0.6296, 0.8229, 1.1472, 1.0225,\n",
      "        0.9445, 0.8515, 0.7420, 1.0749, 0.7649, 0.9780, 0.6276, 1.2310, 0.4321,\n",
      "        1.0584, 0.8292, 0.9281, 0.9267, 0.8504, 0.2869, 0.7699, 0.9704, 0.5854,\n",
      "        0.8573, 0.3560, 0.5433, 0.7899, 1.0993, 0.5071, 0.7739, 1.0480, 0.5114,\n",
      "        0.8163, 0.5629, 0.1080, 0.4797, 0.3782, 0.4114, 0.8205, 0.2116, 0.6155,\n",
      "        0.9730, 0.4893, 0.5027, 0.6087, 0.4420, 1.0840, 0.9913, 1.2509, 0.6834,\n",
      "        0.9425])\n"
     ]
    },
    {
     "data": {
      "text/plain": [
       "tensor([1., 0., 0., 0., 0., 1., 0., 1., 0., 0., 1., 0., 0., 0., 0., 0., 0., 0.,\n",
       "        0., 0., 0., 0., 1., 1., 0., 0., 1., 0., 0., 0., 0., 1., 0., 0., 0., 1.,\n",
       "        0., 1., 0., 0., 1., 0., 0., 1., 0., 0., 0., 0., 0., 0., 0., 0., 1., 1.,\n",
       "        0., 0., 0., 1., 0., 0., 0., 1., 0., 1., 0., 0., 0., 0., 0., 0., 0., 0.,\n",
       "        0., 0., 0., 0., 1., 0., 0., 1., 0., 0., 0., 0., 0., 0., 0., 0., 0., 0.,\n",
       "        0., 0., 0., 0., 0., 1., 0., 1., 0., 0.])"
      ]
     },
     "execution_count": 140,
     "metadata": {},
     "output_type": "execute_result"
    }
   ],
   "source": [
    "\n",
    "# 11. Boolean Mask with 2D\n",
    "\n",
    "# Create x = torch.arange(-5, 5).view(-1, 1).\n",
    "x = torch.arange(-5, 5).view(-1, 1)\n",
    "# print(x)\n",
    "# Assign label 0 if x < -2, label 1 if -2 ≤ x < 2, and label 2 if x ≥ 2.\n",
    "\n",
    "# Cannot do this way\n",
    "x_new = torch.zeros_like(x)\n",
    "x_new[[(x >= -2)] and [(x < 2)]] = 1\n",
    "x_new[x < -2] = 0\n",
    "x_new[x >=2] = 2\n",
    "x_new\n",
    "\n",
    "\n",
    "# 12. Simulate a Dataset\n",
    "\n",
    "# Generate 100 random points in 2D ((100, 2)).\n",
    "points = torch.rand((100,2))\n",
    "points.shape\n",
    "# Compute their Euclidean distance from the origin.\n",
    "# eucl_dis = torch.norm(x)\n",
    "eucl_dis = torch.sqrt((points[:,0]-0)**2 + (points[:,1]-0)**2)\n",
    "print(eucl_dis)\n",
    "eucl_dis = torch.sqrt(torch.sum(points ** 2, dim=1))\n",
    "print(eucl_dis)\n",
    "\n",
    "# Label them as:\n",
    "\n",
    "dis_labels = torch.zeros_like(eucl_dis)\n",
    "# Class 0 if distance < 1\n",
    "dis_labels[eucl_dis < 1.0] = 0\n",
    "\n",
    "# Class 1 if 1 ≤ distance < 2\n",
    "dis_labels[(eucl_dis >= 1.0 )& (eucl_dis < 2.0) ] = 1\n",
    "\n",
    "# Class 2 if distance ≥ 2\n",
    "dis_labels[eucl_dis >= 2] = 2\n",
    "dis_labels"
   ]
  },
  {
   "cell_type": "markdown",
   "id": "a91ece02",
   "metadata": {},
   "source": []
  }
 ],
 "metadata": {
  "kernelspec": {
   "display_name": "Python 3",
   "language": "python",
   "name": "python3"
  },
  "language_info": {
   "codemirror_mode": {
    "name": "ipython",
    "version": 3
   },
   "file_extension": ".py",
   "mimetype": "text/x-python",
   "name": "python",
   "nbconvert_exporter": "python",
   "pygments_lexer": "ipython3",
   "version": "3.10.11"
  }
 },
 "nbformat": 4,
 "nbformat_minor": 5
}
