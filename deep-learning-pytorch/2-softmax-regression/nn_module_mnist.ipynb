{
 "cells": [
  {
   "cell_type": "code",
   "execution_count": 20,
   "id": "a546ec27",
   "metadata": {},
   "outputs": [],
   "source": [
    "import torch\n",
    "import torch.nn as nn\n",
    "import torch.optim as optim\n",
    "import torchvision\n",
    "import torchvision.transforms as transforms\n",
    "import matplotlib.pyplot as plt"
   ]
  },
  {
   "cell_type": "markdown",
   "id": "e3fc3209",
   "metadata": {},
   "source": [
    "## Load MNIST dataset"
   ]
  },
  {
   "cell_type": "code",
   "execution_count": 22,
   "id": "15ed20eb",
   "metadata": {},
   "outputs": [],
   "source": [
    "transform_to_tensor = transforms.ToTensor()\n",
    "DataLoader = torch.utils.data.DataLoader\n",
    "\n",
    "train_dataset = torchvision.datasets.MNIST('./data', train=True,download = True, transform=transform_to_tensor)\n",
    "test_dataset = torchvision.datasets.MNIST('./data', train=False,download = True, transform=transform_to_tensor)\n",
    "\n",
    "train_loader = DataLoader(train_dataset, batch_size=64, shuffle=True)\n",
    "test_loader = DataLoader(test_dataset, batch_size=1000, shuffle=False)\n"
   ]
  },
  {
   "cell_type": "code",
   "execution_count": 21,
   "id": "f2281a67",
   "metadata": {},
   "outputs": [
    {
     "data": {
      "image/png": "[encoded data removed]",
      "text/plain": [
       "<Figure size 640x480 with 1 Axes>"
      ]
     },
     "metadata": {},
     "output_type": "display_data"
    }
   ],
   "source": [
    "# Show the image data (for checking the data)\n",
    "# mnist_image, label = \n",
    "image, label = train_loader.dataset[0]\n",
    "plt.imshow(image.permute(1,2,0),cmap='gray')\n",
    "plt.title(f'y = {label}')\n",
    "plt.axis('off')\n",
    "plt.show()"
   ]
  },
  {
   "cell_type": "markdown",
   "id": "c728a4c2",
   "metadata": {},
   "source": [
    "## Define the model"
   ]
  },
  {
   "cell_type": "code",
   "execution_count": 27,
   "id": "3f76ce4a",
   "metadata": {},
   "outputs": [],
   "source": [
    "class SoftmaxRegression(nn.Module):\n",
    "    def __init__(self, input_dim, num_classes):\n",
    "        super().__init__()\n",
    "        self.linear = nn.Linear(input_dim, num_classes)\n",
    "    def forward(self, x):\n",
    "        x = x.view(-1, 28 * 28) # reshape to 28x28\n",
    "        out = self.linear(x) # logits\n",
    "        return out # CrossEntropyLoss applies softmax autimatically\n",
    "\n",
    "model = SoftmaxRegression(28*28, 10)"
   ]
  },
  {
   "cell_type": "markdown",
   "id": "51e93144",
   "metadata": {},
   "source": [
    "## Loss and Optimizer"
   ]
  },
  {
   "cell_type": "code",
   "execution_count": 28,
   "id": "5af3c0aa",
   "metadata": {},
   "outputs": [],
   "source": [
    "criterion = nn.CrossEntropyLoss()\n",
    "optimizer = optim.SGD(model.parameters(), lr = 0.1)"
   ]
  },
  {
   "cell_type": "markdown",
   "id": "ab735fb0",
   "metadata": {},
   "source": [
    "## Training loop"
   ]
  },
  {
   "cell_type": "code",
   "execution_count": null,
   "id": "5e02785b",
   "metadata": {},
   "outputs": [
    {
     "name": "stdout",
     "output_type": "stream",
     "text": [
      "Epoch 0, loss: 0.5894263982772827\n",
      "Epoch 10, loss: 0.42899268865585327\n",
      "Epoch 20, loss: 0.12092626094818115\n",
      "Epoch 30, loss: 0.27032747864723206\n",
      "Epoch 40, loss: 0.2289130687713623\n",
      "Epoch 50, loss: 0.1936681717634201\n",
      "Epoch 60, loss: 0.1723761111497879\n",
      "Epoch 70, loss: 0.4517572522163391\n",
      "Epoch 80, loss: 0.14010146260261536\n",
      "Epoch 90, loss: 0.2210395485162735\n"
     ]
    }
   ],
   "source": [
    "num_epochs = 100\n",
    "for epoch in range(num_epochs):\n",
    "    # Each training batch has 64 images (we declared)\n",
    "    for batch_idx, (images, labels) in enumerate(train_loader):\n",
    "        # Forward pass\n",
    "        outputs = model(images)\n",
    "        loss = criterion(outputs, labels)\n",
    "        \n",
    "        # Backward and optimize\n",
    "        optimizer.zero_grad()\n",
    "        loss.backward()\n",
    "        optimizer.step() # adjust weights\n",
    "    if epoch % 10 == 0:\n",
    "        print(f\"Epoch {epoch}, loss: {loss.item()}\")"
   ]
  },
  {
   "cell_type": "markdown",
   "id": "2372a26a",
   "metadata": {},
   "source": [
    "# Testing accuracy"
   ]
  },
  {
   "cell_type": "code",
   "execution_count": 40,
   "id": "9255c0ea",
   "metadata": {},
   "outputs": [
    {
     "name": "stdout",
     "output_type": "stream",
     "text": [
      "Accuracy on test set: 92.68\n"
     ]
    }
   ],
   "source": [
    "with torch.no_grad(): # turn off gradient\n",
    "    correct = 0\n",
    "    total = 0\n",
    "    for images, labels in test_loader:\n",
    "        outputs = model(images) # predictions\n",
    "        _, predicted = torch.max(outputs.data, 1) # pick class with highest score\n",
    "        total += labels.size(0)\n",
    "        correct += (predicted == labels).sum().item()\n",
    "print(f\"Accuracy on test set: {100 * correct/total}\")"
   ]
  }
 ],
 "metadata": {
  "kernelspec": {
   "display_name": "Python 3",
   "language": "python",
   "name": "python3"
  },
  "language_info": {
   "codemirror_mode": {
    "name": "ipython",
    "version": 3
   },
   "file_extension": ".py",
   "mimetype": "text/x-python",
   "name": "python",
   "nbconvert_exporter": "python",
   "pygments_lexer": "ipython3",
   "version": "3.10.11"
  }
 },
 "nbformat": 4,
 "nbformat_minor": 5
}
