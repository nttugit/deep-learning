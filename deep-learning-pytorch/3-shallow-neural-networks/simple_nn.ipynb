{
 "cells": [
  {
   "cell_type": "markdown",
   "id": "443dbf91",
   "metadata": {},
   "source": [
    "# Build a simple Neural Network using torch"
   ]
  },
  {
   "cell_type": "code",
   "execution_count": 39,
   "id": "1f021291",
   "metadata": {},
   "outputs": [],
   "source": [
    "import torch\n",
    "import torch.nn as nn\n",
    "import torch.optim as optim"
   ]
  },
  {
   "cell_type": "code",
   "execution_count": 40,
   "id": "9bd0a496",
   "metadata": {},
   "outputs": [
    {
     "data": {
      "text/plain": [
       "(torch.Size([1000, 2]), torch.Size([1000]))"
      ]
     },
     "execution_count": 40,
     "metadata": {},
     "output_type": "execute_result"
    }
   ],
   "source": [
    "# 1. Dataset\n",
    "N = 1000\n",
    "X = torch.rand(N,2)\n",
    "y = (X[:, 1] > X[:, 0]).long()\n",
    "X.shape, y.shape"
   ]
  },
  {
   "cell_type": "code",
   "execution_count": 41,
   "id": "c323b28d",
   "metadata": {},
   "outputs": [
    {
     "data": {
      "text/plain": [
       "(torch.Size([800, 2]), torch.Size([200]))"
      ]
     },
     "execution_count": 41,
     "metadata": {},
     "output_type": "execute_result"
    }
   ],
   "source": [
    "X_train, y_train = X[:800], y[:800]\n",
    "X_test, y_test = X[800:], y[800:]\n",
    "X_train.shape, y_test.shape"
   ]
  },
  {
   "cell_type": "code",
   "execution_count": 42,
   "id": "4bfdafcb",
   "metadata": {},
   "outputs": [],
   "source": [
    "# 2. A simple neural network\n",
    "class NeuralNetwork(nn.Module):\n",
    "    def __init__(self):\n",
    "        super().__init__()\n",
    "        self.fc1 = nn.Linear(2,4) # 2 feature inputs -> 4 hidden\n",
    "        self.fc2 = nn.Linear(4,2) # 4 hidden -> 2 outputs (class 0/1)\n",
    "    def forward(self, X):\n",
    "        x = torch.relu(self.fc1(X)) # activation\n",
    "        x = self.fc2(x) # logits (raw score z = wX + b)\n",
    "        return x\n",
    "model = NeuralNetwork()"
   ]
  },
  {
   "cell_type": "code",
   "execution_count": 43,
   "id": "510db963",
   "metadata": {},
   "outputs": [],
   "source": [
    "# 3. Loss and optimizer\n",
    "criterion = nn.CrossEntropyLoss()\n",
    "optimizer = torch.optim.SGD(model.parameters(), lr=0.1)"
   ]
  },
  {
   "cell_type": "code",
   "execution_count": 46,
   "id": "e65a3910",
   "metadata": {},
   "outputs": [
    {
     "name": "stdout",
     "output_type": "stream",
     "text": [
      "Epoch: 0, loss: 0.6951327323913574\n",
      "Epoch: 99, loss: 0.42305922508239746\n",
      "Epoch: 1000, loss: 0.06541815400123596\n",
      "Epoch: 2000, loss: 0.04598061740398407\n",
      "Epoch: 3000, loss: 0.03839602321386337\n",
      "Epoch: 4000, loss: 0.03401648625731468\n",
      "Epoch: 5000, loss: 0.03103354200720787\n",
      "Epoch: 6000, loss: 0.028807807713747025\n",
      "Epoch: 7000, loss: 0.027048682793974876\n",
      "Epoch: 8000, loss: 0.02560216747224331\n",
      "Epoch: 9000, loss: 0.024378204718232155\n"
     ]
    }
   ],
   "source": [
    "# 4. Training loop\n",
    "for epoch in range(10000):\n",
    "    outputs = model(X_train)\n",
    "    loss = criterion(outputs, y_train)\n",
    "\n",
    "    optimizer.zero_grad()\n",
    "    loss.backward()\n",
    "    optimizer.step() # adjust weights\n",
    "    if epoch == 99 or epoch % 1000 == 0:\n",
    "        print(f\"Epoch: {epoch}, loss: {loss}\")"
   ]
  },
  {
   "cell_type": "code",
   "execution_count": 47,
   "id": "03e0d726",
   "metadata": {},
   "outputs": [
    {
     "name": "stdout",
     "output_type": "stream",
     "text": [
      "Accuracy:  99.0\n"
     ]
    }
   ],
   "source": [
    "# 5. Testing accuracy\n",
    "with torch.no_grad():\n",
    "    test_outputs = model(X_test)\n",
    "    # The index of element (with the highest score) is the predicted class.\n",
    "    _, predicted = torch.max(test_outputs, 1)\n",
    "    accuracy = (predicted == y_test).sum().item() / len(y_test) * 100\n",
    "print(\"Accuracy: \", accuracy)"
   ]
  }
 ],
 "metadata": {
  "kernelspec": {
   "display_name": "Python 3",
   "language": "python",
   "name": "python3"
  },
  "language_info": {
   "codemirror_mode": {
    "name": "ipython",
    "version": 3
   },
   "file_extension": ".py",
   "mimetype": "text/x-python",
   "name": "python",
   "nbconvert_exporter": "python",
   "pygments_lexer": "ipython3",
   "version": "3.10.11"
  }
 },
 "nbformat": 4,
 "nbformat_minor": 5
}
